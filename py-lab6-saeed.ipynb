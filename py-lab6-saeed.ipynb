{
 "cells": [
  {
   "cell_type": "markdown",
   "id": "4a937007",
   "metadata": {},
   "source": [
    "Build a phone book program that receives the phone number, and returns the name of the owner."
   ]
  },
  {
   "cell_type": "code",
   "execution_count": 3,
   "id": "164dcf21",
   "metadata": {},
   "outputs": [
    {
     "name": "stdout",
     "output_type": "stream",
     "text": [
      "Please Enter The Number: 1111111111\n",
      "Amal\n",
      "Please Enter The Number: 6666666666\n",
      "Faisal\n",
      "Please Enter The Number: #$%%%^#$###$&*(\n",
      "This is invalid number\n",
      "Please Enter The Number: 5555555555\n",
      "Rawan\n",
      "Please Enter The Number: 55555555555\n",
      "This is invalid number\n"
     ]
    }
   ],
   "source": [
    "numbook = {1111111111: 'Amal', 2222222222: 'Mohammed',\n",
    "           3333333333: 'Khadijah', 4444444444: 'Abdullah',\n",
    "           5555555555: 'Rawan',6666666666: 'Faisal', \n",
    "           7777777777: 'Layla'}\n",
    "\n",
    "\n",
    "phone_num = input('Please Enter The Number: ')\n",
    "while True != False:\n",
    "    if not phone_num.isdigit():\n",
    "        print('This is invalid number')\n",
    "    elif len(phone_num)!=10:\n",
    "        print('This is invalid number')\n",
    "        break\n",
    "    else:\n",
    "        phone_num2 = int(phone_num)\n",
    "        if phone_num2 in numbook:\n",
    "            print(numbook[phone_num2])\n",
    "        else:\n",
    "            print('Sorry, the number is not found')\n",
    "    phone_num = input('Please Enter The Number: ')\n",
    "    \n",
    "        \n",
    "        \n",
    "        "
   ]
  }
 ],
 "metadata": {
  "kernelspec": {
   "display_name": "Python 3 (ipykernel)",
   "language": "python",
   "name": "python3"
  },
  "language_info": {
   "codemirror_mode": {
    "name": "ipython",
    "version": 3
   },
   "file_extension": ".py",
   "mimetype": "text/x-python",
   "name": "python",
   "nbconvert_exporter": "python",
   "pygments_lexer": "ipython3",
   "version": "3.9.7"
  }
 },
 "nbformat": 4,
 "nbformat_minor": 5
}
